{
 "cells": [
  {
   "cell_type": "code",
   "execution_count": null,
   "id": "c401d6ce",
   "metadata": {},
   "outputs": [],
   "source": [
    "print('I love aquariums')"
   ]
  },
  {
   "cell_type": "markdown",
   "id": "0fd18d43",
   "metadata": {},
   "source": [
    "I need a nap."
   ]
  }
 ],
 "metadata": {
  "kernelspec": {
   "display_name": "Python 3.9.5 - rstudio",
   "language": "python",
   "name": "rstudio-user-3.9.5"
  },
  "language_info": {
   "codemirror_mode": {
    "name": "ipython",
    "version": 3
   },
   "file_extension": ".py",
   "mimetype": "text/x-python",
   "name": "python",
   "nbconvert_exporter": "python",
   "pygments_lexer": "ipython3",
   "version": "3.9.5"
  }
 },
 "nbformat": 4,
 "nbformat_minor": 5
}
